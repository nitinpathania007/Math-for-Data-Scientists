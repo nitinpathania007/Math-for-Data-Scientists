{
 "cells": [
  {
   "cell_type": "code",
   "execution_count": null,
   "metadata": {},
   "outputs": [],
   "source": [
    "[dot[z[0],z[1] for z in zip(a,x)]\n",
    "\n",
    "a=[col1,col2...]\n",
    "b=smul(x[0],a[0])\n",
    "for col in range(1,len(x):\n",
    "\tz=smul(x[i],a[i])\n",
    "\tb=vadd(b,z)\n",
    "\n",
    "a=dot(v,w) -computes dot product of two vectors return scalar\n",
    "u=vadd(v,w)-add two vectors return vector\n",
    "\n",
    "w=smul(alpha,v) - multiply vector by scalar and return vector\n"
   ]
  },
  {
   "cell_type": "code",
   "execution_count": null,
   "metadata": {},
   "outputs": [],
   "source": []
  },
  {
   "cell_type": "code",
   "execution_count": null,
   "metadata": {},
   "outputs": [],
   "source": [
    "a=[row1,row2..]\n",
    "b=[col1,col2...]\n",
    "\n",
    "def funct(a,b):\n",
    "    [dot[z[0],z[1] for z in zip(a,b)]"
   ]
  },
  {
   "cell_type": "code",
   "execution_count": null,
   "metadata": {},
   "outputs": [],
   "source": []
  },
  {
   "cell_type": "code",
   "execution_count": null,
   "metadata": {},
   "outputs": [],
   "source": []
  },
  {
   "cell_type": "code",
   "execution_count": 1,
   "metadata": {},
   "outputs": [],
   "source": [
    "import numpy"
   ]
  },
  {
   "cell_type": "code",
   "execution_count": null,
   "metadata": {},
   "outputs": [],
   "source": [
    "a=[1,2,3]\n",
    "b=[3,4,5]"
   ]
  },
  {
   "cell_type": "code",
   "execution_count": 2,
   "metadata": {},
   "outputs": [
    {
     "ename": "NameError",
     "evalue": "name 'a' is not defined",
     "output_type": "error",
     "traceback": [
      "\u001b[1;31m---------------------------------------------------------------------------\u001b[0m",
      "\u001b[1;31mNameError\u001b[0m                                 Traceback (most recent call last)",
      "\u001b[1;32m<ipython-input-2-2052518f77fa>\u001b[0m in \u001b[0;36m<module>\u001b[1;34m\u001b[0m\n\u001b[1;32m----> 1\u001b[1;33m \u001b[0mnumpy\u001b[0m\u001b[1;33m.\u001b[0m\u001b[0mdot\u001b[0m\u001b[1;33m(\u001b[0m\u001b[0ma\u001b[0m\u001b[1;33m,\u001b[0m\u001b[0mb\u001b[0m\u001b[1;33m)\u001b[0m\u001b[1;33m\u001b[0m\u001b[1;33m\u001b[0m\u001b[0m\n\u001b[0m",
      "\u001b[1;31mNameError\u001b[0m: name 'a' is not defined"
     ]
    }
   ],
   "source": [
    "numpy.dot(a,b)"
   ]
  },
  {
   "cell_type": "code",
   "execution_count": 17,
   "metadata": {},
   "outputs": [
    {
     "data": {
      "text/plain": [
       "[[0, 0, 0, 0, 0, 0, 0, 0, 0, 0],\n",
       " [0, 1, 2, 3, 4, 5, 6, 7, 8, 9],\n",
       " [0, 2, 4, 6, 8, 10, 12, 14, 16, 18],\n",
       " [0, 3, 6, 9, 12, 15, 18, 21, 24, 27],\n",
       " [0, 4, 8, 12, 16, 20, 24, 28, 32, 36]]"
      ]
     },
     "execution_count": 17,
     "metadata": {},
     "output_type": "execute_result"
    }
   ],
   "source": [
    "m=5\n",
    "n=10\n",
    "[[i*j for i in range(0,n)] for j in range(0,m)]"
   ]
  },
  {
   "cell_type": "code",
   "execution_count": 24,
   "metadata": {},
   "outputs": [
    {
     "data": {
      "text/plain": [
       "[[0, 0, 0, 0, 0, 0, 0, 0, 0, 0],\n",
       " [0, 1, 2, 3, 4, 5, 6, 7, 8, 9],\n",
       " [0, 2, 4, 6, 8, 10, 12, 14, 16, 18],\n",
       " [0, 3, 6, 9, 12, 15, 18, 21, 24, 27],\n",
       " [0, 4, 8, 12, 16, 20, 24, 28, 32, 36]]"
      ]
     },
     "execution_count": 24,
     "metadata": {},
     "output_type": "execute_result"
    }
   ],
   "source": [
    "m=5\n",
    "n=10\n",
    "[[j*i for i in range(0,n)] for j in range(0,m)]"
   ]
  },
  {
   "cell_type": "code",
   "execution_count": 22,
   "metadata": {},
   "outputs": [],
   "source": [
    "m=5\n",
    "n=10\n",
    "s=[]\n",
    "p=[]\n",
    "for i in range(0,m):\n",
    "    row=[]\n",
    "\n",
    "    for j in range(0,n):\n",
    "        row.append(0)\n",
    "    \n",
    "    p.append(row)\n"
   ]
  },
  {
   "cell_type": "code",
   "execution_count": 23,
   "metadata": {},
   "outputs": [
    {
     "name": "stdout",
     "output_type": "stream",
     "text": [
      "[0, 0, 0, 0, 0, 0, 0, 0, 0, 0]\n",
      "[0, 0, 0, 0, 0, 0, 0, 0, 0, 0]\n",
      "[0, 0, 0, 0, 0, 0, 0, 0, 0, 0]\n",
      "[0, 0, 0, 0, 0, 0, 0, 0, 0, 0]\n",
      "[0, 0, 0, 0, 0, 0, 0, 0, 0, 0]\n"
     ]
    }
   ],
   "source": [
    "for i in p:\n",
    "    print(i)"
   ]
  },
  {
   "cell_type": "code",
   "execution_count": 26,
   "metadata": {},
   "outputs": [],
   "source": [
    "import numpy as np"
   ]
  },
  {
   "cell_type": "code",
   "execution_count": 41,
   "metadata": {},
   "outputs": [
    {
     "data": {
      "text/plain": [
       "array([[ 1.29824913, -0.15778402,  0.56296497,  0.51130992, -0.11033576,\n",
       "         0.36612501, -0.75744149,  0.70992691,  1.69705898,  0.11553236],\n",
       "       [ 2.89823632, -0.27174858,  0.12640243,  0.96244846, -0.67514167,\n",
       "        -2.19332977,  0.74774847, -0.31105035, -0.50694279, -2.20761624],\n",
       "       [ 0.03405468,  1.23317169,  0.01008777, -0.68088635, -0.1433086 ,\n",
       "        -0.8247963 ,  1.99497712,  0.7574861 ,  0.30468598, -0.72145702],\n",
       "       [-0.48928413, -1.08663258, -1.20112602, -0.33895556,  1.60165234,\n",
       "        -0.54213354, -0.9140921 ,  1.59106063, -0.01151978, -0.53493662],\n",
       "       [-1.20633917, -0.42034875, -0.09987932,  1.86249166, -2.13411818,\n",
       "        -0.44724253,  1.19395061,  0.99451733, -0.44696739, -1.19996634]])"
      ]
     },
     "execution_count": 41,
     "metadata": {},
     "output_type": "execute_result"
    }
   ],
   "source": [
    "b=np.random.randn(5,10)\n",
    "b"
   ]
  },
  {
   "cell_type": "code",
   "execution_count": 42,
   "metadata": {},
   "outputs": [
    {
     "data": {
      "text/plain": [
       "array([[ 0.56786025, -2.00834749, -0.96837628, -0.10155282, -0.68925804,\n",
       "         0.5838101 ,  0.19169503, -0.4597234 ,  0.1286232 , -0.3084533 ],\n",
       "       [ 0.51710833, -1.25689365,  0.62877609,  0.439042  ,  0.27901424,\n",
       "         0.83737445,  0.41918489, -0.46632926,  1.19630144, -0.29829962],\n",
       "       [-0.31591497,  0.73690772,  0.67073356, -1.94593535, -0.84733302,\n",
       "         1.60733327, -1.4662901 , -2.28924031, -0.95130294,  1.27400864],\n",
       "       [-1.48226921,  0.91241874,  1.64573766,  1.7912539 , -0.12762805,\n",
       "        -0.21942535, -1.20013715,  0.58749232,  1.23652308,  0.44103701],\n",
       "       [-1.63326974,  0.7625465 , -0.08909409,  1.00391336, -0.0779728 ,\n",
       "        -1.99806077, -0.87541777,  0.46280565, -0.41593936,  0.27011572]])"
      ]
     },
     "execution_count": 42,
     "metadata": {},
     "output_type": "execute_result"
    }
   ],
   "source": [
    "D=np.random.randn(5,10)\n",
    "D"
   ]
  },
  {
   "cell_type": "code",
   "execution_count": 45,
   "metadata": {},
   "outputs": [
    {
     "data": {
      "text/plain": [
       "array([[ 1.29824913,  2.89823632,  0.03405468, -0.48928413, -1.20633917],\n",
       "       [-0.15778402, -0.27174858,  1.23317169, -1.08663258, -0.42034875],\n",
       "       [ 0.56296497,  0.12640243,  0.01008777, -1.20112602, -0.09987932],\n",
       "       [ 0.51130992,  0.96244846, -0.68088635, -0.33895556,  1.86249166],\n",
       "       [-0.11033576, -0.67514167, -0.1433086 ,  1.60165234, -2.13411818],\n",
       "       [ 0.36612501, -2.19332977, -0.8247963 , -0.54213354, -0.44724253],\n",
       "       [-0.75744149,  0.74774847,  1.99497712, -0.9140921 ,  1.19395061],\n",
       "       [ 0.70992691, -0.31105035,  0.7574861 ,  1.59106063,  0.99451733],\n",
       "       [ 1.69705898, -0.50694279,  0.30468598, -0.01151978, -0.44696739],\n",
       "       [ 0.11553236, -2.20761624, -0.72145702, -0.53493662, -1.19996634]])"
      ]
     },
     "execution_count": 45,
     "metadata": {},
     "output_type": "execute_result"
    }
   ],
   "source": [
    "d=b.transpose()\n",
    "d"
   ]
  },
  {
   "cell_type": "code",
   "execution_count": 46,
   "metadata": {},
   "outputs": [
    {
     "data": {
      "text/plain": [
       "array([[ 1.29824913, -0.15778402,  0.56296497,  0.51130992, -0.11033576,\n",
       "         0.36612501, -0.75744149,  0.70992691,  1.69705898,  0.11553236],\n",
       "       [ 2.89823632, -0.27174858,  0.12640243,  0.96244846, -0.67514167,\n",
       "        -2.19332977,  0.74774847, -0.31105035, -0.50694279, -2.20761624],\n",
       "       [ 0.03405468,  1.23317169,  0.01008777, -0.68088635, -0.1433086 ,\n",
       "        -0.8247963 ,  1.99497712,  0.7574861 ,  0.30468598, -0.72145702],\n",
       "       [-0.48928413, -1.08663258, -1.20112602, -0.33895556,  1.60165234,\n",
       "        -0.54213354, -0.9140921 ,  1.59106063, -0.01151978, -0.53493662],\n",
       "       [-1.20633917, -0.42034875, -0.09987932,  1.86249166, -2.13411818,\n",
       "        -0.44724253,  1.19395061,  0.99451733, -0.44696739, -1.19996634]])"
      ]
     },
     "execution_count": 46,
     "metadata": {},
     "output_type": "execute_result"
    }
   ],
   "source": [
    "b"
   ]
  },
  {
   "cell_type": "code",
   "execution_count": 52,
   "metadata": {},
   "outputs": [
    {
     "ename": "IndexError",
     "evalue": "index 5 is out of bounds for axis 0 with size 5",
     "output_type": "error",
     "traceback": [
      "\u001b[1;31m---------------------------------------------------------------------------\u001b[0m",
      "\u001b[1;31mIndexError\u001b[0m                                Traceback (most recent call last)",
      "\u001b[1;32m<ipython-input-52-e6675069cc04>\u001b[0m in \u001b[0;36m<module>\u001b[1;34m\u001b[0m\n\u001b[0;32m      1\u001b[0m \u001b[1;32mfor\u001b[0m \u001b[0mi\u001b[0m \u001b[1;32min\u001b[0m \u001b[0mrange\u001b[0m\u001b[1;33m(\u001b[0m\u001b[1;36m0\u001b[0m\u001b[1;33m,\u001b[0m\u001b[1;36m6\u001b[0m\u001b[1;33m)\u001b[0m\u001b[1;33m:\u001b[0m\u001b[1;33m\u001b[0m\u001b[1;33m\u001b[0m\u001b[0m\n\u001b[0;32m      2\u001b[0m     \u001b[1;32mfor\u001b[0m \u001b[0mj\u001b[0m \u001b[1;32min\u001b[0m \u001b[0mrange\u001b[0m\u001b[1;33m(\u001b[0m\u001b[1;36m0\u001b[0m\u001b[1;33m,\u001b[0m\u001b[1;36m10\u001b[0m\u001b[1;33m)\u001b[0m\u001b[1;33m:\u001b[0m\u001b[1;33m\u001b[0m\u001b[1;33m\u001b[0m\u001b[0m\n\u001b[1;32m----> 3\u001b[1;33m         \u001b[0mout\u001b[0m\u001b[1;33m=\u001b[0m\u001b[0mb\u001b[0m\u001b[1;33m[\u001b[0m\u001b[0mi\u001b[0m\u001b[1;33m]\u001b[0m\u001b[1;33m[\u001b[0m\u001b[0mj\u001b[0m\u001b[1;33m]\u001b[0m\u001b[1;33m*\u001b[0m\u001b[0md\u001b[0m\u001b[1;33m[\u001b[0m\u001b[0mi\u001b[0m\u001b[1;33m]\u001b[0m\u001b[1;33m[\u001b[0m\u001b[0mj\u001b[0m\u001b[1;33m]\u001b[0m\u001b[1;33m\u001b[0m\u001b[1;33m\u001b[0m\u001b[0m\n\u001b[0m\u001b[0;32m      4\u001b[0m \u001b[1;33m\u001b[0m\u001b[0m\n",
      "\u001b[1;31mIndexError\u001b[0m: index 5 is out of bounds for axis 0 with size 5"
     ]
    }
   ],
   "source": [
    "for i in range(0,6):\n",
    "    for j in range(0,10):\n",
    "        out=b[i][j]*d[i][j]\n",
    "        "
   ]
  },
  {
   "cell_type": "code",
   "execution_count": 55,
   "metadata": {},
   "outputs": [
    {
     "ename": "IndexError",
     "evalue": "list assignment index out of range",
     "output_type": "error",
     "traceback": [
      "\u001b[1;31m---------------------------------------------------------------------------\u001b[0m",
      "\u001b[1;31mIndexError\u001b[0m                                Traceback (most recent call last)",
      "\u001b[1;32m<ipython-input-55-332f7febdd53>\u001b[0m in \u001b[0;36m<module>\u001b[1;34m\u001b[0m\n\u001b[0;32m      4\u001b[0m \u001b[1;32mfor\u001b[0m \u001b[0mi\u001b[0m \u001b[1;32min\u001b[0m \u001b[0mrange\u001b[0m\u001b[1;33m(\u001b[0m\u001b[1;36m0\u001b[0m\u001b[1;33m,\u001b[0m\u001b[0mm\u001b[0m\u001b[1;33m)\u001b[0m\u001b[1;33m:\u001b[0m\u001b[1;33m\u001b[0m\u001b[1;33m\u001b[0m\u001b[0m\n\u001b[0;32m      5\u001b[0m     \u001b[1;32mfor\u001b[0m \u001b[0mj\u001b[0m \u001b[1;32min\u001b[0m \u001b[0mrange\u001b[0m\u001b[1;33m(\u001b[0m\u001b[1;36m0\u001b[0m\u001b[1;33m,\u001b[0m\u001b[0mn\u001b[0m\u001b[1;33m)\u001b[0m\u001b[1;33m:\u001b[0m\u001b[1;33m\u001b[0m\u001b[1;33m\u001b[0m\u001b[0m\n\u001b[1;32m----> 6\u001b[1;33m         \u001b[0mc\u001b[0m\u001b[1;33m[\u001b[0m\u001b[0mi\u001b[0m\u001b[1;33m]\u001b[0m\u001b[1;33m[\u001b[0m\u001b[0mj\u001b[0m\u001b[1;33m]\u001b[0m\u001b[1;33m=\u001b[0m\u001b[0mb\u001b[0m\u001b[1;33m[\u001b[0m\u001b[0mj\u001b[0m\u001b[1;33m]\u001b[0m\u001b[1;33m[\u001b[0m\u001b[0mi\u001b[0m\u001b[1;33m]\u001b[0m\u001b[1;33m\u001b[0m\u001b[1;33m\u001b[0m\u001b[0m\n\u001b[0m\u001b[0;32m      7\u001b[0m \u001b[1;33m\u001b[0m\u001b[0m\n",
      "\u001b[1;31mIndexError\u001b[0m: list assignment index out of range"
     ]
    }
   ],
   "source": [
    "c=[[]]\n",
    "m=5\n",
    "n=10\n",
    "for i in range(0,m):\n",
    "    for j in range(0,n):\n",
    "        c[i][j]=b[j][i]\n",
    "        "
   ]
  },
  {
   "cell_type": "code",
   "execution_count": 56,
   "metadata": {},
   "outputs": [
    {
     "data": {
      "text/plain": [
       "array([[ 0.56786025, -2.00834749, -0.96837628, -0.10155282, -0.68925804,\n",
       "         0.5838101 ,  0.19169503, -0.4597234 ,  0.1286232 , -0.3084533 ],\n",
       "       [ 0.51710833, -1.25689365,  0.62877609,  0.439042  ,  0.27901424,\n",
       "         0.83737445,  0.41918489, -0.46632926,  1.19630144, -0.29829962],\n",
       "       [-0.31591497,  0.73690772,  0.67073356, -1.94593535, -0.84733302,\n",
       "         1.60733327, -1.4662901 , -2.28924031, -0.95130294,  1.27400864],\n",
       "       [-1.48226921,  0.91241874,  1.64573766,  1.7912539 , -0.12762805,\n",
       "        -0.21942535, -1.20013715,  0.58749232,  1.23652308,  0.44103701],\n",
       "       [-1.63326974,  0.7625465 , -0.08909409,  1.00391336, -0.0779728 ,\n",
       "        -1.99806077, -0.87541777,  0.46280565, -0.41593936,  0.27011572]])"
      ]
     },
     "execution_count": 56,
     "metadata": {},
     "output_type": "execute_result"
    }
   ],
   "source": [
    "D"
   ]
  },
  {
   "cell_type": "code",
   "execution_count": 35,
   "metadata": {},
   "outputs": [
    {
     "data": {
      "text/plain": [
       "array([[-1., -0., -1.,  1.,  0., -1., -1.,  1., -1.,  0.],\n",
       "       [-0.,  0., -1., -1.,  1., -2., -2., -1.,  2., -0.],\n",
       "       [-0.,  2., -1., -0.,  0.,  1., -1.,  1., -1.,  0.],\n",
       "       [-0., -0., -1., -1., -1., -0.,  1., -0.,  2., -1.],\n",
       "       [-0., -1., -2.,  1., -0., -1., -1., -1.,  1., -0.]])"
      ]
     },
     "execution_count": 35,
     "metadata": {},
     "output_type": "execute_result"
    }
   ],
   "source": [
    "b=np.round(10*np.random.randn(5,10)/10)\n",
    "b"
   ]
  },
  {
   "cell_type": "code",
   "execution_count": 57,
   "metadata": {},
   "outputs": [
    {
     "data": {
      "text/plain": [
       "array([[  24, -276],\n",
       "       [ -12,  184]])"
      ]
     },
     "execution_count": 57,
     "metadata": {},
     "output_type": "execute_result"
    }
   ],
   "source": [
    "w = np.array([[2,-6],[-1, 4]])\n",
    "v = np.array([12,46])\n",
    "\n",
    "w*v"
   ]
  },
  {
   "cell_type": "code",
   "execution_count": 58,
   "metadata": {},
   "outputs": [
    {
     "data": {
      "text/plain": [
       "array([[ 1.29824913, -0.15778402,  0.56296497,  0.51130992, -0.11033576,\n",
       "         0.36612501, -0.75744149,  0.70992691,  1.69705898,  0.11553236],\n",
       "       [ 2.89823632, -0.27174858,  0.12640243,  0.96244846, -0.67514167,\n",
       "        -2.19332977,  0.74774847, -0.31105035, -0.50694279, -2.20761624],\n",
       "       [ 0.03405468,  1.23317169,  0.01008777, -0.68088635, -0.1433086 ,\n",
       "        -0.8247963 ,  1.99497712,  0.7574861 ,  0.30468598, -0.72145702],\n",
       "       [-0.48928413, -1.08663258, -1.20112602, -0.33895556,  1.60165234,\n",
       "        -0.54213354, -0.9140921 ,  1.59106063, -0.01151978, -0.53493662],\n",
       "       [-1.20633917, -0.42034875, -0.09987932,  1.86249166, -2.13411818,\n",
       "        -0.44724253,  1.19395061,  0.99451733, -0.44696739, -1.19996634]])"
      ]
     },
     "execution_count": 58,
     "metadata": {},
     "output_type": "execute_result"
    }
   ],
   "source": [
    "b"
   ]
  },
  {
   "cell_type": "code",
   "execution_count": 72,
   "metadata": {},
   "outputs": [
    {
     "data": {
      "text/plain": [
       "3.762632780974402"
      ]
     },
     "execution_count": 72,
     "metadata": {},
     "output_type": "execute_result"
    }
   ],
   "source": [
    "1.29824913*2.89823632"
   ]
  },
  {
   "cell_type": "code",
   "execution_count": 59,
   "metadata": {},
   "outputs": [
    {
     "data": {
      "text/plain": [
       "array([[ 1.29824913,  2.89823632,  0.03405468, -0.48928413, -1.20633917],\n",
       "       [-0.15778402, -0.27174858,  1.23317169, -1.08663258, -0.42034875],\n",
       "       [ 0.56296497,  0.12640243,  0.01008777, -1.20112602, -0.09987932],\n",
       "       [ 0.51130992,  0.96244846, -0.68088635, -0.33895556,  1.86249166],\n",
       "       [-0.11033576, -0.67514167, -0.1433086 ,  1.60165234, -2.13411818],\n",
       "       [ 0.36612501, -2.19332977, -0.8247963 , -0.54213354, -0.44724253],\n",
       "       [-0.75744149,  0.74774847,  1.99497712, -0.9140921 ,  1.19395061],\n",
       "       [ 0.70992691, -0.31105035,  0.7574861 ,  1.59106063,  0.99451733],\n",
       "       [ 1.69705898, -0.50694279,  0.30468598, -0.01151978, -0.44696739],\n",
       "       [ 0.11553236, -2.20761624, -0.72145702, -0.53493662, -1.19996634]])"
      ]
     },
     "execution_count": 59,
     "metadata": {},
     "output_type": "execute_result"
    }
   ],
   "source": [
    "d"
   ]
  },
  {
   "cell_type": "code",
   "execution_count": null,
   "metadata": {},
   "outputs": [],
   "source": []
  },
  {
   "cell_type": "code",
   "execution_count": 66,
   "metadata": {},
   "outputs": [
    {
     "ename": "NameError",
     "evalue": "name 'mvmul' is not defined",
     "output_type": "error",
     "traceback": [
      "\u001b[1;31m---------------------------------------------------------------------------\u001b[0m",
      "\u001b[1;31mNameError\u001b[0m                                 Traceback (most recent call last)",
      "\u001b[1;32m<ipython-input-66-2343dd968a52>\u001b[0m in \u001b[0;36m<module>\u001b[1;34m\u001b[0m\n\u001b[1;32m----> 1\u001b[1;33m \u001b[0mmvmul\u001b[0m\u001b[1;33m(\u001b[0m\u001b[0mb\u001b[0m\u001b[1;33m,\u001b[0m\u001b[0md\u001b[0m\u001b[1;33m)\u001b[0m\u001b[1;33m\u001b[0m\u001b[1;33m\u001b[0m\u001b[0m\n\u001b[0m",
      "\u001b[1;31mNameError\u001b[0m: name 'mvmul' is not defined"
     ]
    }
   ],
   "source": [
    "mvmul(b,d)"
   ]
  },
  {
   "cell_type": "code",
   "execution_count": 62,
   "metadata": {},
   "outputs": [
    {
     "data": {
      "text/plain": [
       "10"
      ]
     },
     "execution_count": 62,
     "metadata": {},
     "output_type": "execute_result"
    }
   ],
   "source": [
    "len(b[0])"
   ]
  },
  {
   "cell_type": "code",
   "execution_count": 61,
   "metadata": {},
   "outputs": [
    {
     "data": {
      "text/plain": [
       "5"
      ]
     },
     "execution_count": 61,
     "metadata": {},
     "output_type": "execute_result"
    }
   ],
   "source": [
    "len(b)"
   ]
  },
  {
   "cell_type": "code",
   "execution_count": 70,
   "metadata": {},
   "outputs": [],
   "source": [
    "s=[]\n",
    "for i in range(0,5):\n",
    "    t=[]\n",
    "    for j in range(0,10):\n",
    "        t.append(b[i][j]*d[j][i])\n",
    "    s.append(t)"
   ]
  },
  {
   "cell_type": "code",
   "execution_count": 71,
   "metadata": {},
   "outputs": [
    {
     "data": {
      "text/plain": [
       "[[1.6854508014673004,\n",
       "  0.024895797297729155,\n",
       "  0.3169295549081267,\n",
       "  0.2614378306333001,\n",
       "  0.012173979027310742,\n",
       "  0.13404752422471702,\n",
       "  0.5737176112024771,\n",
       "  0.5039962166197555,\n",
       "  2.8800091880466714,\n",
       "  0.013347726190173183],\n",
       " [8.39977373949375,\n",
       "  0.0738472894733809,\n",
       "  0.01597757526002308,\n",
       "  0.9263070286797869,\n",
       "  0.455816272779279,\n",
       "  4.810695493302694,\n",
       "  0.5591277764657665,\n",
       "  0.09675232107033799,\n",
       "  0.2569909884620064,\n",
       "  4.873569460875383],\n",
       " [0.0011597209063690145,\n",
       "  1.5207124076193794,\n",
       "  0.00010176303208506734,\n",
       "  0.46360622341239155,\n",
       "  0.020537354753087062,\n",
       "  0.6802889359539539,\n",
       "  3.979933695571168,\n",
       "  0.5737851850044562,\n",
       "  0.09283354919078168,\n",
       "  0.5205002303064903],\n",
       " [0.2393989601671388,\n",
       "  1.1807703619320864,\n",
       "  1.4427037131159746,\n",
       "  0.11489086878496327,\n",
       "  2.5652902249793654,\n",
       "  0.2939087724352546,\n",
       "  0.8355643663297836,\n",
       "  2.5314739353834232,\n",
       "  0.00013270544525945195,\n",
       "  0.28615719199734774],\n",
       " [1.4552541881566456,\n",
       "  0.1766930750394018,\n",
       "  0.009975878584679857,\n",
       "  3.468875170353773,\n",
       "  4.554460419854114,\n",
       "  0.2000258805038943,\n",
       "  1.425518053530732,\n",
       "  0.9890647192125386,\n",
       "  0.19977985090560152,\n",
       "  1.439919228819764]]"
      ]
     },
     "execution_count": 71,
     "metadata": {},
     "output_type": "execute_result"
    }
   ],
   "source": [
    "s"
   ]
  },
  {
   "cell_type": "code",
   "execution_count": 73,
   "metadata": {},
   "outputs": [
    {
     "data": {
      "text/plain": [
       "array([[ 1.29824913, -0.15778402,  0.56296497,  0.51130992, -0.11033576,\n",
       "         0.36612501, -0.75744149,  0.70992691,  1.69705898,  0.11553236],\n",
       "       [ 2.89823632, -0.27174858,  0.12640243,  0.96244846, -0.67514167,\n",
       "        -2.19332977,  0.74774847, -0.31105035, -0.50694279, -2.20761624],\n",
       "       [ 0.03405468,  1.23317169,  0.01008777, -0.68088635, -0.1433086 ,\n",
       "        -0.8247963 ,  1.99497712,  0.7574861 ,  0.30468598, -0.72145702],\n",
       "       [-0.48928413, -1.08663258, -1.20112602, -0.33895556,  1.60165234,\n",
       "        -0.54213354, -0.9140921 ,  1.59106063, -0.01151978, -0.53493662],\n",
       "       [-1.20633917, -0.42034875, -0.09987932,  1.86249166, -2.13411818,\n",
       "        -0.44724253,  1.19395061,  0.99451733, -0.44696739, -1.19996634]])"
      ]
     },
     "execution_count": 73,
     "metadata": {},
     "output_type": "execute_result"
    }
   ],
   "source": [
    "b"
   ]
  },
  {
   "cell_type": "code",
   "execution_count": 74,
   "metadata": {},
   "outputs": [
    {
     "data": {
      "text/plain": [
       "array([[ 1.29824913,  2.89823632,  0.03405468, -0.48928413, -1.20633917],\n",
       "       [-0.15778402, -0.27174858,  1.23317169, -1.08663258, -0.42034875],\n",
       "       [ 0.56296497,  0.12640243,  0.01008777, -1.20112602, -0.09987932],\n",
       "       [ 0.51130992,  0.96244846, -0.68088635, -0.33895556,  1.86249166],\n",
       "       [-0.11033576, -0.67514167, -0.1433086 ,  1.60165234, -2.13411818],\n",
       "       [ 0.36612501, -2.19332977, -0.8247963 , -0.54213354, -0.44724253],\n",
       "       [-0.75744149,  0.74774847,  1.99497712, -0.9140921 ,  1.19395061],\n",
       "       [ 0.70992691, -0.31105035,  0.7574861 ,  1.59106063,  0.99451733],\n",
       "       [ 1.69705898, -0.50694279,  0.30468598, -0.01151978, -0.44696739],\n",
       "       [ 0.11553236, -2.20761624, -0.72145702, -0.53493662, -1.19996634]])"
      ]
     },
     "execution_count": 74,
     "metadata": {},
     "output_type": "execute_result"
    }
   ],
   "source": [
    "d"
   ]
  },
  {
   "cell_type": "code",
   "execution_count": 76,
   "metadata": {},
   "outputs": [
    {
     "ename": "SyntaxError",
     "evalue": "invalid syntax (<ipython-input-76-9cf8d1029216>, line 6)",
     "output_type": "error",
     "traceback": [
      "\u001b[1;36m  File \u001b[1;32m\"<ipython-input-76-9cf8d1029216>\"\u001b[1;36m, line \u001b[1;32m6\u001b[0m\n\u001b[1;33m    c.append(e)\u001b[0m\n\u001b[1;37m    ^\u001b[0m\n\u001b[1;31mSyntaxError\u001b[0m\u001b[1;31m:\u001b[0m invalid syntax\n"
     ]
    }
   ],
   "source": [
    "c=[]\n",
    "for i in range(0,len(b)):\n",
    "    e=[]\n",
    "    for j in range(0,len(d)):\n",
    "        e.append(np.dot(b[i][j]*d[j][i])\n",
    "    c.append(e)\n",
    "    \n",
    "c"
   ]
  },
  {
   "cell_type": "code",
   "execution_count": 83,
   "metadata": {},
   "outputs": [],
   "source": [
    "def myzeroes(m,n):\n",
    "    D=[[0 for i in range(0,n)] for i in range(0,m)]\n",
    "    return D\n",
    "\n",
    "def mytranspose(B):\n",
    "    m=len(B)\n",
    "    n=len(B[0])\n",
    "    D=myzeroes(n,m)\n",
    "    for i in range(0,n):\n",
    "        for j in range(0,m):\n",
    "            D[i][j]=B[j][i]\n",
    "    return D"
   ]
  },
  {
   "cell_type": "code",
   "execution_count": 84,
   "metadata": {},
   "outputs": [
    {
     "data": {
      "text/plain": [
       "array([[ 1.29824913, -0.15778402,  0.56296497,  0.51130992, -0.11033576,\n",
       "         0.36612501, -0.75744149,  0.70992691,  1.69705898,  0.11553236],\n",
       "       [ 2.89823632, -0.27174858,  0.12640243,  0.96244846, -0.67514167,\n",
       "        -2.19332977,  0.74774847, -0.31105035, -0.50694279, -2.20761624],\n",
       "       [ 0.03405468,  1.23317169,  0.01008777, -0.68088635, -0.1433086 ,\n",
       "        -0.8247963 ,  1.99497712,  0.7574861 ,  0.30468598, -0.72145702],\n",
       "       [-0.48928413, -1.08663258, -1.20112602, -0.33895556,  1.60165234,\n",
       "        -0.54213354, -0.9140921 ,  1.59106063, -0.01151978, -0.53493662],\n",
       "       [-1.20633917, -0.42034875, -0.09987932,  1.86249166, -2.13411818,\n",
       "        -0.44724253,  1.19395061,  0.99451733, -0.44696739, -1.19996634]])"
      ]
     },
     "execution_count": 84,
     "metadata": {},
     "output_type": "execute_result"
    }
   ],
   "source": [
    "b"
   ]
  },
  {
   "cell_type": "code",
   "execution_count": 97,
   "metadata": {},
   "outputs": [
    {
     "data": {
      "text/plain": [
       "[[1.2982491291995155,\n",
       "  2.898236315329333,\n",
       "  0.03405467524979521,\n",
       "  -0.4892841303037927,\n",
       "  -1.2063391679609203],\n",
       " [-0.1577840210469018,\n",
       "  -0.2717485776841912,\n",
       "  1.2331716861894695,\n",
       "  -1.0866325790864575,\n",
       "  -0.42034875405953304],\n",
       " [0.562964967744998,\n",
       "  0.12640243375830656,\n",
       "  0.01008776645670722,\n",
       "  -1.2011260188323183,\n",
       "  -0.09987932010521426],\n",
       " [0.5113099164237871,\n",
       "  0.9624484550768352,\n",
       "  -0.6808863513189198,\n",
       "  -0.3389555557664799,\n",
       "  1.862491656452123],\n",
       " [-0.1103357558877028,\n",
       "  -0.6751416686735303,\n",
       "  -0.1433085997178364,\n",
       "  1.6016523421077888,\n",
       "  -2.1341181831974803],\n",
       " [0.3661250117442361,\n",
       "  -2.193329773039771,\n",
       "  -0.8247962996728064,\n",
       "  -0.5421335374566442,\n",
       "  -0.4472425298469437],\n",
       " [-0.7574414902832278,\n",
       "  0.7477484713897893,\n",
       "  1.9949771165532622,\n",
       "  -0.9140920994789221,\n",
       "  1.1939506076596016],\n",
       " [0.7099269093503608,\n",
       "  -0.3110503513425728,\n",
       "  0.7574860955849,\n",
       "  1.5910606322146945,\n",
       "  0.994517329769843],\n",
       " [1.6970589818997663,\n",
       "  -0.5069427861820369,\n",
       "  0.3046859845657192,\n",
       "  -0.011519784948489792,\n",
       "  -0.4469673935597557],\n",
       " [0.11553235992644305,\n",
       "  -2.207616239493491,\n",
       "  -0.7214570190291937,\n",
       "  -0.5349366242811832,\n",
       "  -1.1999663448696234]]"
      ]
     },
     "execution_count": 97,
     "metadata": {},
     "output_type": "execute_result"
    }
   ],
   "source": [
    "mytranspose(b)"
   ]
  },
  {
   "cell_type": "code",
   "execution_count": 98,
   "metadata": {},
   "outputs": [],
   "source": [
    "A=np.round(10*np.random.randn(10,5))/10\n",
    "B=np.round(10*np.random.randn(10,5))/10\n",
    "\n",
    "BT=mytranspose(b)\n",
    "\n"
   ]
  },
  {
   "cell_type": "code",
   "execution_count": 101,
   "metadata": {},
   "outputs": [
    {
     "data": {
      "text/plain": [
       "5"
      ]
     },
     "execution_count": 101,
     "metadata": {},
     "output_type": "execute_result"
    }
   ],
   "source": [
    "C=[[0 for i in range(0,len(B[0]))] for j in range(0,len(A))]\n",
    "\n",
    "for i in range(0,len(A)):\n",
    "    for j in range(0,len(B[0])):\n",
    "        for k in range(0,len(A[0])):\n",
    "\n",
    "            C[i][j] += A[i][k]*B[k][j]\n",
    "len(C[0])"
   ]
  },
  {
   "cell_type": "code",
   "execution_count": 102,
   "metadata": {},
   "outputs": [
    {
     "name": "stdout",
     "output_type": "stream",
     "text": [
      "1.0034746999999697\n"
     ]
    }
   ],
   "source": [
    "import time\n",
    "\n",
    "t=time.perf_counter()\n",
    "\n",
    "\n",
    "for i in range(0,len(A)):\n",
    "    for j in range(0,len(B[0])):\n",
    "        for k in range(0,len(A[0])):\n",
    "            \n",
    "            C[i][j] += A[i][k]*B[k][j]\n",
    "np.round(np.array(C)*10)/10\n",
    "\n",
    "print(time.perf_counter()-t)\n"
   ]
  },
  {
   "cell_type": "code",
   "execution_count": 103,
   "metadata": {},
   "outputs": [
    {
     "ename": "ValueError",
     "evalue": "matmul: Input operand 1 has a mismatch in its core dimension 0, with gufunc signature (n?,k),(k,m?)->(n?,m?) (size 10 is different from 5)",
     "output_type": "error",
     "traceback": [
      "\u001b[1;31m---------------------------------------------------------------------------\u001b[0m",
      "\u001b[1;31mValueError\u001b[0m                                Traceback (most recent call last)",
      "\u001b[1;32m<ipython-input-103-08067f7b432c>\u001b[0m in \u001b[0;36m<module>\u001b[1;34m\u001b[0m\n\u001b[0;32m      1\u001b[0m \u001b[0mt\u001b[0m\u001b[1;33m-\u001b[0m\u001b[0mtime\u001b[0m\u001b[1;33m.\u001b[0m\u001b[0mperf_counter\u001b[0m\u001b[1;33m(\u001b[0m\u001b[1;33m)\u001b[0m\u001b[1;33m\u001b[0m\u001b[1;33m\u001b[0m\u001b[0m\n\u001b[1;32m----> 2\u001b[1;33m \u001b[0mnp\u001b[0m\u001b[1;33m.\u001b[0m\u001b[0mmatmul\u001b[0m\u001b[1;33m(\u001b[0m\u001b[0mA\u001b[0m\u001b[1;33m,\u001b[0m\u001b[0mB\u001b[0m\u001b[1;33m)\u001b[0m\u001b[1;33m\u001b[0m\u001b[1;33m\u001b[0m\u001b[0m\n\u001b[0m\u001b[0;32m      3\u001b[0m \u001b[1;33m\u001b[0m\u001b[0m\n\u001b[0;32m      4\u001b[0m \u001b[0mprint\u001b[0m\u001b[1;33m(\u001b[0m\u001b[0mtime\u001b[0m\u001b[1;33m.\u001b[0m\u001b[0mperf_counter\u001b[0m\u001b[1;33m(\u001b[0m\u001b[1;33m)\u001b[0m\u001b[1;33m-\u001b[0m\u001b[0mt\u001b[0m\u001b[1;33m)\u001b[0m\u001b[1;33m\u001b[0m\u001b[1;33m\u001b[0m\u001b[0m\n\u001b[0;32m      5\u001b[0m \u001b[1;33m\u001b[0m\u001b[0m\n",
      "\u001b[1;31mValueError\u001b[0m: matmul: Input operand 1 has a mismatch in its core dimension 0, with gufunc signature (n?,k),(k,m?)->(n?,m?) (size 10 is different from 5)"
     ]
    }
   ],
   "source": [
    "\n",
    "\n",
    "t-time.perf_counter()\n",
    "np.matmul(A,B)\n",
    "\n",
    "print(time.perf_counter()-t)\n",
    "\n",
    "mvmul"
   ]
  },
  {
   "cell_type": "code",
   "execution_count": 104,
   "metadata": {},
   "outputs": [
    {
     "name": "stdout",
     "output_type": "stream",
     "text": [
      "Variable      Type        Data/Info\n",
      "-----------------------------------\n",
      "A             ndarray     10x5: 50 elems, type `float64`, 400 bytes\n",
      "B             ndarray     10x5: 50 elems, type `float64`, 400 bytes\n",
      "BT            list        n=10\n",
      "C             list        n=10\n",
      "D             ndarray     5x10: 50 elems, type `float64`, 400 bytes\n",
      "b             ndarray     5x10: 50 elems, type `float64`, 400 bytes\n",
      "c             list        n=10\n",
      "d             ndarray     10x5: 50 elems, type `float64`, 400 bytes\n",
      "e             list        n=10\n",
      "i             int         9\n",
      "j             int         4\n",
      "k             int         4\n",
      "klist         list        n=0\n",
      "m             int         5\n",
      "mytranspose   function    <function mytranspose at 0x000001BF4B6DBF78>\n",
      "myzeroes      function    <function myzeroes at 0x000001BF4B6F91F8>\n",
      "n             int         10\n",
      "np            module      <module 'numpy' from 'C:\\<...>ges\\\\numpy\\\\__init__.py'>\n",
      "numpy         module      <module 'numpy' from 'C:\\<...>ges\\\\numpy\\\\__init__.py'>\n",
      "out           float64     0.1331023439539106\n",
      "p             list        n=5\n",
      "row           list        n=10\n",
      "s             list        n=5\n",
      "t             float       8113.8921559\n",
      "time          module      <module 'time' (built-in)>\n",
      "v             ndarray     2: 2 elems, type `int32`, 8 bytes\n",
      "w             ndarray     2x2: 4 elems, type `int32`, 16 bytes\n"
     ]
    }
   ],
   "source": [
    "whos"
   ]
  },
  {
   "cell_type": "code",
   "execution_count": 105,
   "metadata": {},
   "outputs": [
    {
     "name": "stdout",
     "output_type": "stream",
     "text": [
      "A\t B\t BT\t C\t D\t b\t c\t d\t e\t \n",
      "i\t j\t k\t klist\t m\t mytranspose\t myzeroes\t n\t np\t \n",
      "numpy\t out\t p\t row\t s\t t\t time\t v\t w\t \n",
      "\n"
     ]
    }
   ],
   "source": [
    "who"
   ]
  },
  {
   "cell_type": "code",
   "execution_count": 108,
   "metadata": {},
   "outputs": [
    {
     "data": {
      "text/plain": [
       "[[0, 0, 0, 0, 0],\n",
       " [0, 0, 0, 0, 0],\n",
       " [0, 0, 0, 0, 0],\n",
       " [0, 0, 0, 0, 0],\n",
       " [0, 0, 0, 0, 0],\n",
       " [0, 0, 0, 0, 0],\n",
       " [0, 0, 0, 0, 0]]"
      ]
     },
     "execution_count": 108,
     "metadata": {},
     "output_type": "execute_result"
    }
   ],
   "source": [
    "L=[0]\n",
    "[L*5]*7"
   ]
  },
  {
   "cell_type": "code",
   "execution_count": 111,
   "metadata": {},
   "outputs": [
    {
     "data": {
      "text/plain": [
       "7"
      ]
     },
     "execution_count": 111,
     "metadata": {},
     "output_type": "execute_result"
    }
   ],
   "source": [
    "np.random.randint(1,10)"
   ]
  },
  {
   "cell_type": "code",
   "execution_count": 116,
   "metadata": {},
   "outputs": [
    {
     "ename": "NameError",
     "evalue": "name 'r' is not defined",
     "output_type": "error",
     "traceback": [
      "\u001b[1;31m---------------------------------------------------------------------------\u001b[0m",
      "\u001b[1;31mNameError\u001b[0m                                 Traceback (most recent call last)",
      "\u001b[1;32m<ipython-input-116-be7db47838e7>\u001b[0m in \u001b[0;36m<module>\u001b[1;34m\u001b[0m\n\u001b[0;32m     11\u001b[0m     \u001b[0mcolumn\u001b[0m\u001b[1;33m=\u001b[0m\u001b[0mnp\u001b[0m\u001b[1;33m.\u001b[0m\u001b[0mrandom\u001b[0m\u001b[1;33m.\u001b[0m\u001b[0mrandint\u001b[0m\u001b[1;33m(\u001b[0m\u001b[1;36m1\u001b[0m\u001b[1;33m,\u001b[0m\u001b[0mn\u001b[0m\u001b[1;33m)\u001b[0m\u001b[1;33m\u001b[0m\u001b[1;33m\u001b[0m\u001b[0m\n\u001b[0;32m     12\u001b[0m     \u001b[0mA\u001b[0m\u001b[1;33m[\u001b[0m\u001b[0mrow\u001b[0m\u001b[1;33m]\u001b[0m\u001b[1;33m[\u001b[0m\u001b[0mcolumn\u001b[0m\u001b[1;33m]\u001b[0m\u001b[1;33m=\u001b[0m\u001b[0mnp\u001b[0m\u001b[1;33m.\u001b[0m\u001b[0mrandom\u001b[0m\u001b[1;33m.\u001b[0m\u001b[0mrandn\u001b[0m\u001b[1;33m(\u001b[0m\u001b[1;33m)\u001b[0m\u001b[1;33m\u001b[0m\u001b[1;33m\u001b[0m\u001b[0m\n\u001b[1;32m---> 13\u001b[1;33m     \u001b[0mA\u001b[0m\u001b[1;33m[\u001b[0m\u001b[1;33m(\u001b[0m\u001b[0mrow\u001b[0m\u001b[1;33m,\u001b[0m\u001b[0mcolumn\u001b[0m\u001b[1;33m)\u001b[0m\u001b[1;33m]\u001b[0m \u001b[1;33m=\u001b[0m \u001b[0mr\u001b[0m\u001b[1;33m\u001b[0m\u001b[1;33m\u001b[0m\u001b[0m\n\u001b[0m\u001b[0;32m     14\u001b[0m     \u001b[0mA\u001b[0m\u001b[1;33m[\u001b[0m\u001b[0mrow\u001b[0m\u001b[1;33m]\u001b[0m\u001b[1;33m[\u001b[0m\u001b[0mcolumn\u001b[0m\u001b[1;33m]\u001b[0m \u001b[1;33m=\u001b[0m \u001b[0mr\u001b[0m\u001b[1;33m\u001b[0m\u001b[1;33m\u001b[0m\u001b[0m\n\u001b[0;32m     15\u001b[0m \u001b[0mA\u001b[0m\u001b[1;33m\u001b[0m\u001b[1;33m\u001b[0m\u001b[0m\n",
      "\u001b[1;31mNameError\u001b[0m: name 'r' is not defined"
     ]
    }
   ],
   "source": [
    "Amys=[]\n",
    "\n",
    "C=[[0 for i in range(0,n)] for j in range(0,m)]\n",
    "\n",
    "#not sparsh approach\n",
    "\n",
    "m=5\n",
    "n=8\n",
    "k=6\n",
    "\n",
    "for ik in range(0,k):\n",
    "    row=np.random.randint(1,m)\n",
    "    column=np.random.randint(1,n)\n",
    "    A[row][column]=np.random.randn()\n",
    "    A[(row,column)] = r\n",
    "    A[row][column] = r\n",
    "A"
   ]
  },
  {
   "cell_type": "code",
   "execution_count": 118,
   "metadata": {},
   "outputs": [],
   "source": [
    "from scipy.sparse import csr_matrix\n",
    "As=csr_matrix(A)"
   ]
  },
  {
   "cell_type": "code",
   "execution_count": 120,
   "metadata": {},
   "outputs": [
    {
     "data": {
      "text/plain": [
       "array([[-2.7       , -0.4       ,  1.4       ,  0.5       , -0.6       ],\n",
       "       [ 1.7       , -1.74458301, -0.5       ,  0.4       , -1.5       ],\n",
       "       [ 0.7       ,  1.1       , -2.1       , -1.2       , -0.5       ],\n",
       "       [ 0.1       ,  2.8       , -0.88852207,  0.35191926,  0.4       ],\n",
       "       [ 0.6       , -1.2       ,  1.71414541,  1.4       ,  1.        ],\n",
       "       [ 1.        , -0.        , -2.        , -0.1       , -1.4       ],\n",
       "       [-0.9       , -0.7       , -1.        ,  0.5       , -0.7       ],\n",
       "       [-0.        , -1.2       ,  1.6       ,  0.3       , -1.3       ],\n",
       "       [ 0.3       ,  0.3       ,  0.7       , -2.        , -0.1       ],\n",
       "       [ 0.4       ,  0.1       , -0.6       ,  0.        , -0.3       ]])"
      ]
     },
     "execution_count": 120,
     "metadata": {},
     "output_type": "execute_result"
    }
   ],
   "source": [
    "A"
   ]
  },
  {
   "cell_type": "code",
   "execution_count": 122,
   "metadata": {},
   "outputs": [],
   "source": [
    "from scipy.sparse import coo_matrix\n",
    "As1=coo_matrix(A)"
   ]
  },
  {
   "cell_type": "code",
   "execution_count": 123,
   "metadata": {},
   "outputs": [
    {
     "data": {
      "text/plain": [
       "<10x5 sparse matrix of type '<class 'numpy.float64'>'\n",
       "\twith 47 stored elements in COOrdinate format>"
      ]
     },
     "execution_count": 123,
     "metadata": {},
     "output_type": "execute_result"
    }
   ],
   "source": [
    "As1"
   ]
  },
  {
   "cell_type": "code",
   "execution_count": null,
   "metadata": {},
   "outputs": [],
   "source": []
  },
  {
   "cell_type": "code",
   "execution_count": null,
   "metadata": {},
   "outputs": [],
   "source": []
  }
 ],
 "metadata": {
  "kernelspec": {
   "display_name": "Python 3",
   "language": "python",
   "name": "python3"
  },
  "language_info": {
   "codemirror_mode": {
    "name": "ipython",
    "version": 3
   },
   "file_extension": ".py",
   "mimetype": "text/x-python",
   "name": "python",
   "nbconvert_exporter": "python",
   "pygments_lexer": "ipython3",
   "version": "3.7.4"
  }
 },
 "nbformat": 4,
 "nbformat_minor": 2
}
