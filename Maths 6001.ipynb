{
 "cells": [
  {
   "cell_type": "code",
   "execution_count": 40,
   "metadata": {},
   "outputs": [],
   "source": [
    "import numpy as np"
   ]
  },
  {
   "cell_type": "code",
   "execution_count": 41,
   "metadata": {},
   "outputs": [],
   "source": [
    "import scipy.linalg.blas as blas"
   ]
  },
  {
   "cell_type": "code",
   "execution_count": 42,
   "metadata": {},
   "outputs": [
    {
     "data": {
      "text/plain": [
       "['__all__',\n",
       " '__builtins__',\n",
       " '__cached__',\n",
       " '__doc__',\n",
       " '__file__',\n",
       " '__loader__',\n",
       " '__name__',\n",
       " '__package__',\n",
       " '__spec__',\n",
       " '_blas_alias',\n",
       " '_cblas',\n",
       " '_fblas',\n",
       " '_get_funcs',\n",
       " '_np',\n",
       " '_type_conv',\n",
       " '_type_score',\n",
       " 'absolute_import',\n",
       " 'caxpy',\n",
       " 'ccopy',\n",
       " 'cdotc',\n",
       " 'cdotu',\n",
       " 'cgbmv',\n",
       " 'cgemm',\n",
       " 'cgemv',\n",
       " 'cgerc',\n",
       " 'cgeru',\n",
       " 'chbmv',\n",
       " 'chemm',\n",
       " 'chemv',\n",
       " 'cher',\n",
       " 'cher2',\n",
       " 'cher2k',\n",
       " 'cherk',\n",
       " 'chpmv',\n",
       " 'chpr',\n",
       " 'chpr2',\n",
       " 'crotg',\n",
       " 'cscal',\n",
       " 'cspmv',\n",
       " 'cspr',\n",
       " 'csrot',\n",
       " 'csscal',\n",
       " 'cswap',\n",
       " 'csymm',\n",
       " 'csyr',\n",
       " 'csyr2k',\n",
       " 'csyrk',\n",
       " 'ctbmv',\n",
       " 'ctbsv',\n",
       " 'ctpmv',\n",
       " 'ctpsv',\n",
       " 'ctrmm',\n",
       " 'ctrmv',\n",
       " 'ctrsm',\n",
       " 'ctrsv',\n",
       " 'dasum',\n",
       " 'daxpy',\n",
       " 'dcopy',\n",
       " 'ddot',\n",
       " 'dgbmv',\n",
       " 'dgemm',\n",
       " 'dgemv',\n",
       " 'dger',\n",
       " 'division',\n",
       " 'dnrm2',\n",
       " 'drot',\n",
       " 'drotg',\n",
       " 'drotm',\n",
       " 'drotmg',\n",
       " 'dsbmv',\n",
       " 'dscal',\n",
       " 'dspmv',\n",
       " 'dspr',\n",
       " 'dspr2',\n",
       " 'dswap',\n",
       " 'dsymm',\n",
       " 'dsymv',\n",
       " 'dsyr',\n",
       " 'dsyr2',\n",
       " 'dsyr2k',\n",
       " 'dsyrk',\n",
       " 'dtbmv',\n",
       " 'dtbsv',\n",
       " 'dtpmv',\n",
       " 'dtpsv',\n",
       " 'dtrmm',\n",
       " 'dtrmv',\n",
       " 'dtrsm',\n",
       " 'dtrsv',\n",
       " 'dzasum',\n",
       " 'dznrm2',\n",
       " 'find_best_blas_type',\n",
       " 'get_blas_funcs',\n",
       " 'icamax',\n",
       " 'idamax',\n",
       " 'isamax',\n",
       " 'izamax',\n",
       " 'print_function',\n",
       " 'sasum',\n",
       " 'saxpy',\n",
       " 'scasum',\n",
       " 'scnrm2',\n",
       " 'scopy',\n",
       " 'sdot',\n",
       " 'sgbmv',\n",
       " 'sgemm',\n",
       " 'sgemv',\n",
       " 'sger',\n",
       " 'snrm2',\n",
       " 'srot',\n",
       " 'srotg',\n",
       " 'srotm',\n",
       " 'srotmg',\n",
       " 'ssbmv',\n",
       " 'sscal',\n",
       " 'sspmv',\n",
       " 'sspr',\n",
       " 'sspr2',\n",
       " 'sswap',\n",
       " 'ssymm',\n",
       " 'ssymv',\n",
       " 'ssyr',\n",
       " 'ssyr2',\n",
       " 'ssyr2k',\n",
       " 'ssyrk',\n",
       " 'stbmv',\n",
       " 'stbsv',\n",
       " 'stpmv',\n",
       " 'stpsv',\n",
       " 'strmm',\n",
       " 'strmv',\n",
       " 'strsm',\n",
       " 'strsv',\n",
       " 'zaxpy',\n",
       " 'zcopy',\n",
       " 'zdotc',\n",
       " 'zdotu',\n",
       " 'zdrot',\n",
       " 'zdscal',\n",
       " 'zgbmv',\n",
       " 'zgemm',\n",
       " 'zgemv',\n",
       " 'zgerc',\n",
       " 'zgeru',\n",
       " 'zhbmv',\n",
       " 'zhemm',\n",
       " 'zhemv',\n",
       " 'zher',\n",
       " 'zher2',\n",
       " 'zher2k',\n",
       " 'zherk',\n",
       " 'zhpmv',\n",
       " 'zhpr',\n",
       " 'zhpr2',\n",
       " 'zrotg',\n",
       " 'zscal',\n",
       " 'zspmv',\n",
       " 'zspr',\n",
       " 'zswap',\n",
       " 'zsymm',\n",
       " 'zsyr',\n",
       " 'zsyr2k',\n",
       " 'zsyrk',\n",
       " 'ztbmv',\n",
       " 'ztbsv',\n",
       " 'ztpmv',\n",
       " 'ztpsv',\n",
       " 'ztrmm',\n",
       " 'ztrmv',\n",
       " 'ztrsm',\n",
       " 'ztrsv']"
      ]
     },
     "execution_count": 42,
     "metadata": {},
     "output_type": "execute_result"
    }
   ],
   "source": [
    "dir(blas)"
   ]
  },
  {
   "cell_type": "code",
   "execution_count": 43,
   "metadata": {},
   "outputs": [
    {
     "name": "stdout",
     "output_type": "stream",
     "text": [
      "Dot product is :  32\n"
     ]
    }
   ],
   "source": [
    "X = [6,5,4]\n",
    "Y = [3,2,1]\n",
    "DotProduct = np.dot(X,Y)\n",
    "print('Dot product is : ' , DotProduct)"
   ]
  },
  {
   "cell_type": "code",
   "execution_count": null,
   "metadata": {},
   "outputs": [],
   "source": []
  },
  {
   "cell_type": "code",
   "execution_count": 44,
   "metadata": {},
   "outputs": [],
   "source": [
    "a=np.random.rand(2)\n",
    "b=np.random.rand(2)"
   ]
  },
  {
   "cell_type": "code",
   "execution_count": 45,
   "metadata": {},
   "outputs": [
    {
     "data": {
      "text/plain": [
       "array([0.94629233, 0.49344491])"
      ]
     },
     "execution_count": 45,
     "metadata": {},
     "output_type": "execute_result"
    }
   ],
   "source": [
    "a"
   ]
  },
  {
   "cell_type": "code",
   "execution_count": 46,
   "metadata": {},
   "outputs": [
    {
     "data": {
      "text/plain": [
       "array([0.98384955, 0.25402422])"
      ]
     },
     "execution_count": 46,
     "metadata": {},
     "output_type": "execute_result"
    }
   ],
   "source": [
    "b"
   ]
  },
  {
   "cell_type": "code",
   "execution_count": 47,
   "metadata": {},
   "outputs": [
    {
     "data": {
      "text/plain": [
       "1.056356241485227"
      ]
     },
     "execution_count": 47,
     "metadata": {},
     "output_type": "execute_result"
    }
   ],
   "source": [
    "blas.ddot(a,b)"
   ]
  },
  {
   "cell_type": "code",
   "execution_count": null,
   "metadata": {},
   "outputs": [],
   "source": []
  },
  {
   "cell_type": "code",
   "execution_count": 48,
   "metadata": {},
   "outputs": [],
   "source": [
    "x=np.random.randn(2,4)\n",
    "y=np.random.randn(4,2)\n",
    "#randn n for normal distribution"
   ]
  },
  {
   "cell_type": "code",
   "execution_count": 49,
   "metadata": {},
   "outputs": [
    {
     "data": {
      "text/plain": [
       "['_DeprecatedImport',\n",
       " '__all__',\n",
       " '__builtins__',\n",
       " '__cached__',\n",
       " '__doc__',\n",
       " '__file__',\n",
       " '__loader__',\n",
       " '__name__',\n",
       " '__package__',\n",
       " '__spec__',\n",
       " '_clapack',\n",
       " '_compute_lwork',\n",
       " '_dep_message',\n",
       " '_flapack',\n",
       " '_get_funcs',\n",
       " '_lapack_alias',\n",
       " '_np',\n",
       " 'absolute_import',\n",
       " 'cgbsv',\n",
       " 'cgbtrf',\n",
       " 'cgbtrs',\n",
       " 'cgebal',\n",
       " 'cgecon',\n",
       " 'cgees',\n",
       " 'cgeev',\n",
       " 'cgeev_lwork',\n",
       " 'cgegv',\n",
       " 'cgehrd',\n",
       " 'cgehrd_lwork',\n",
       " 'cgels',\n",
       " 'cgels_lwork',\n",
       " 'cgelsd',\n",
       " 'cgelsd_lwork',\n",
       " 'cgelss',\n",
       " 'cgelss_lwork',\n",
       " 'cgelsy',\n",
       " 'cgelsy_lwork',\n",
       " 'cgeqp3',\n",
       " 'cgeqrf',\n",
       " 'cgerqf',\n",
       " 'cgesdd',\n",
       " 'cgesdd_lwork',\n",
       " 'cgesv',\n",
       " 'cgesvd',\n",
       " 'cgesvd_lwork',\n",
       " 'cgesvx',\n",
       " 'cgetrf',\n",
       " 'cgetri',\n",
       " 'cgetri_lwork',\n",
       " 'cgetrs',\n",
       " 'cgges',\n",
       " 'cggev',\n",
       " 'cgglse',\n",
       " 'cgglse_lwork',\n",
       " 'cgtsv',\n",
       " 'chbevd',\n",
       " 'chbevx',\n",
       " 'checon',\n",
       " 'cheev',\n",
       " 'cheevd',\n",
       " 'cheevr',\n",
       " 'chegst',\n",
       " 'chegv',\n",
       " 'chegvd',\n",
       " 'chegvx',\n",
       " 'chesv',\n",
       " 'chesv_lwork',\n",
       " 'chesvx',\n",
       " 'chesvx_lwork',\n",
       " 'chetrd',\n",
       " 'chetrd_lwork',\n",
       " 'chetrf',\n",
       " 'chetrf_lwork',\n",
       " 'chfrk',\n",
       " 'clange',\n",
       " 'clapack',\n",
       " 'clarf',\n",
       " 'clarfg',\n",
       " 'clartg',\n",
       " 'claswp',\n",
       " 'clauum',\n",
       " 'cpbsv',\n",
       " 'cpbtrf',\n",
       " 'cpbtrs',\n",
       " 'cpftrf',\n",
       " 'cpftri',\n",
       " 'cpftrs',\n",
       " 'cpocon',\n",
       " 'cposv',\n",
       " 'cposvx',\n",
       " 'cpotrf',\n",
       " 'cpotri',\n",
       " 'cpotrs',\n",
       " 'cptsv',\n",
       " 'crot',\n",
       " 'csycon',\n",
       " 'csyconv',\n",
       " 'csysv',\n",
       " 'csysv_lwork',\n",
       " 'csysvx',\n",
       " 'csysvx_lwork',\n",
       " 'csytf2',\n",
       " 'csytrf',\n",
       " 'csytrf_lwork',\n",
       " 'ctfsm',\n",
       " 'ctfttp',\n",
       " 'ctfttr',\n",
       " 'ctgsen',\n",
       " 'ctpttf',\n",
       " 'ctpttr',\n",
       " 'ctrsyl',\n",
       " 'ctrtri',\n",
       " 'ctrtrs',\n",
       " 'ctrttf',\n",
       " 'ctrttp',\n",
       " 'ctzrzf',\n",
       " 'ctzrzf_lwork',\n",
       " 'cunghr',\n",
       " 'cunghr_lwork',\n",
       " 'cungqr',\n",
       " 'cungrq',\n",
       " 'cunmqr',\n",
       " 'cunmrz',\n",
       " 'cunmrz_lwork',\n",
       " 'dgbsv',\n",
       " 'dgbtrf',\n",
       " 'dgbtrs',\n",
       " 'dgebal',\n",
       " 'dgecon',\n",
       " 'dgees',\n",
       " 'dgeev',\n",
       " 'dgeev_lwork',\n",
       " 'dgegv',\n",
       " 'dgehrd',\n",
       " 'dgehrd_lwork',\n",
       " 'dgels',\n",
       " 'dgels_lwork',\n",
       " 'dgelsd',\n",
       " 'dgelsd_lwork',\n",
       " 'dgelss',\n",
       " 'dgelss_lwork',\n",
       " 'dgelsy',\n",
       " 'dgelsy_lwork',\n",
       " 'dgeqp3',\n",
       " 'dgeqrf',\n",
       " 'dgerqf',\n",
       " 'dgesdd',\n",
       " 'dgesdd_lwork',\n",
       " 'dgesv',\n",
       " 'dgesvd',\n",
       " 'dgesvd_lwork',\n",
       " 'dgesvx',\n",
       " 'dgetrf',\n",
       " 'dgetri',\n",
       " 'dgetri_lwork',\n",
       " 'dgetrs',\n",
       " 'dgges',\n",
       " 'dggev',\n",
       " 'dgglse',\n",
       " 'dgglse_lwork',\n",
       " 'dgtsv',\n",
       " 'division',\n",
       " 'dlamch',\n",
       " 'dlange',\n",
       " 'dlarf',\n",
       " 'dlarfg',\n",
       " 'dlartg',\n",
       " 'dlasd4',\n",
       " 'dlaswp',\n",
       " 'dlauum',\n",
       " 'dorghr',\n",
       " 'dorghr_lwork',\n",
       " 'dorgqr',\n",
       " 'dorgrq',\n",
       " 'dormqr',\n",
       " 'dormrz',\n",
       " 'dormrz_lwork',\n",
       " 'dpbsv',\n",
       " 'dpbtrf',\n",
       " 'dpbtrs',\n",
       " 'dpftrf',\n",
       " 'dpftri',\n",
       " 'dpftrs',\n",
       " 'dpocon',\n",
       " 'dposv',\n",
       " 'dposvx',\n",
       " 'dpotrf',\n",
       " 'dpotri',\n",
       " 'dpotrs',\n",
       " 'dptsv',\n",
       " 'dsbev',\n",
       " 'dsbevd',\n",
       " 'dsbevx',\n",
       " 'dsfrk',\n",
       " 'dstebz',\n",
       " 'dstein',\n",
       " 'dstemr',\n",
       " 'dstemr_lwork',\n",
       " 'dsterf',\n",
       " 'dstev',\n",
       " 'dsycon',\n",
       " 'dsyconv',\n",
       " 'dsyev',\n",
       " 'dsyevd',\n",
       " 'dsyevr',\n",
       " 'dsygst',\n",
       " 'dsygv',\n",
       " 'dsygvd',\n",
       " 'dsygvx',\n",
       " 'dsysv',\n",
       " 'dsysv_lwork',\n",
       " 'dsysvx',\n",
       " 'dsysvx_lwork',\n",
       " 'dsytf2',\n",
       " 'dsytrd',\n",
       " 'dsytrd_lwork',\n",
       " 'dsytrf',\n",
       " 'dsytrf_lwork',\n",
       " 'dtfsm',\n",
       " 'dtfttp',\n",
       " 'dtfttr',\n",
       " 'dtgsen',\n",
       " 'dtpttf',\n",
       " 'dtpttr',\n",
       " 'dtrsyl',\n",
       " 'dtrtri',\n",
       " 'dtrtrs',\n",
       " 'dtrttf',\n",
       " 'dtrttp',\n",
       " 'dtzrzf',\n",
       " 'dtzrzf_lwork',\n",
       " 'find_best_lapack_type',\n",
       " 'flapack',\n",
       " 'get_lapack_funcs',\n",
       " 'ilaver',\n",
       " 'print_function',\n",
       " 'sgbsv',\n",
       " 'sgbtrf',\n",
       " 'sgbtrs',\n",
       " 'sgebal',\n",
       " 'sgecon',\n",
       " 'sgees',\n",
       " 'sgeev',\n",
       " 'sgeev_lwork',\n",
       " 'sgegv',\n",
       " 'sgehrd',\n",
       " 'sgehrd_lwork',\n",
       " 'sgels',\n",
       " 'sgels_lwork',\n",
       " 'sgelsd',\n",
       " 'sgelsd_lwork',\n",
       " 'sgelss',\n",
       " 'sgelss_lwork',\n",
       " 'sgelsy',\n",
       " 'sgelsy_lwork',\n",
       " 'sgeqp3',\n",
       " 'sgeqrf',\n",
       " 'sgerqf',\n",
       " 'sgesdd',\n",
       " 'sgesdd_lwork',\n",
       " 'sgesv',\n",
       " 'sgesvd',\n",
       " 'sgesvd_lwork',\n",
       " 'sgesvx',\n",
       " 'sgetrf',\n",
       " 'sgetri',\n",
       " 'sgetri_lwork',\n",
       " 'sgetrs',\n",
       " 'sgges',\n",
       " 'sggev',\n",
       " 'sgglse',\n",
       " 'sgglse_lwork',\n",
       " 'sgtsv',\n",
       " 'slamch',\n",
       " 'slange',\n",
       " 'slarf',\n",
       " 'slarfg',\n",
       " 'slartg',\n",
       " 'slasd4',\n",
       " 'slaswp',\n",
       " 'slauum',\n",
       " 'sorghr',\n",
       " 'sorghr_lwork',\n",
       " 'sorgqr',\n",
       " 'sorgrq',\n",
       " 'sormqr',\n",
       " 'sormrz',\n",
       " 'sormrz_lwork',\n",
       " 'spbsv',\n",
       " 'spbtrf',\n",
       " 'spbtrs',\n",
       " 'spftrf',\n",
       " 'spftri',\n",
       " 'spftrs',\n",
       " 'spocon',\n",
       " 'sposv',\n",
       " 'sposvx',\n",
       " 'spotrf',\n",
       " 'spotri',\n",
       " 'spotrs',\n",
       " 'sptsv',\n",
       " 'ssbev',\n",
       " 'ssbevd',\n",
       " 'ssbevx',\n",
       " 'ssfrk',\n",
       " 'sstebz',\n",
       " 'sstein',\n",
       " 'sstemr',\n",
       " 'sstemr_lwork',\n",
       " 'ssterf',\n",
       " 'sstev',\n",
       " 'ssycon',\n",
       " 'ssyconv',\n",
       " 'ssyev',\n",
       " 'ssyevd',\n",
       " 'ssyevr',\n",
       " 'ssygst',\n",
       " 'ssygv',\n",
       " 'ssygvd',\n",
       " 'ssygvx',\n",
       " 'ssysv',\n",
       " 'ssysv_lwork',\n",
       " 'ssysvx',\n",
       " 'ssysvx_lwork',\n",
       " 'ssytf2',\n",
       " 'ssytrd',\n",
       " 'ssytrd_lwork',\n",
       " 'ssytrf',\n",
       " 'ssytrf_lwork',\n",
       " 'stfsm',\n",
       " 'stfttp',\n",
       " 'stfttr',\n",
       " 'stgsen',\n",
       " 'stpttf',\n",
       " 'stpttr',\n",
       " 'strsyl',\n",
       " 'strtri',\n",
       " 'strtrs',\n",
       " 'strttf',\n",
       " 'strttp',\n",
       " 'stzrzf',\n",
       " 'stzrzf_lwork',\n",
       " 'zgbsv',\n",
       " 'zgbtrf',\n",
       " 'zgbtrs',\n",
       " 'zgebal',\n",
       " 'zgecon',\n",
       " 'zgees',\n",
       " 'zgeev',\n",
       " 'zgeev_lwork',\n",
       " 'zgegv',\n",
       " 'zgehrd',\n",
       " 'zgehrd_lwork',\n",
       " 'zgels',\n",
       " 'zgels_lwork',\n",
       " 'zgelsd',\n",
       " 'zgelsd_lwork',\n",
       " 'zgelss',\n",
       " 'zgelss_lwork',\n",
       " 'zgelsy',\n",
       " 'zgelsy_lwork',\n",
       " 'zgeqp3',\n",
       " 'zgeqrf',\n",
       " 'zgerqf',\n",
       " 'zgesdd',\n",
       " 'zgesdd_lwork',\n",
       " 'zgesv',\n",
       " 'zgesvd',\n",
       " 'zgesvd_lwork',\n",
       " 'zgesvx',\n",
       " 'zgetrf',\n",
       " 'zgetri',\n",
       " 'zgetri_lwork',\n",
       " 'zgetrs',\n",
       " 'zgges',\n",
       " 'zggev',\n",
       " 'zgglse',\n",
       " 'zgglse_lwork',\n",
       " 'zgtsv',\n",
       " 'zhbevd',\n",
       " 'zhbevx',\n",
       " 'zhecon',\n",
       " 'zheev',\n",
       " 'zheevd',\n",
       " 'zheevr',\n",
       " 'zhegst',\n",
       " 'zhegv',\n",
       " 'zhegvd',\n",
       " 'zhegvx',\n",
       " 'zhesv',\n",
       " 'zhesv_lwork',\n",
       " 'zhesvx',\n",
       " 'zhesvx_lwork',\n",
       " 'zhetrd',\n",
       " 'zhetrd_lwork',\n",
       " 'zhetrf',\n",
       " 'zhetrf_lwork',\n",
       " 'zhfrk',\n",
       " 'zlange',\n",
       " 'zlarf',\n",
       " 'zlarfg',\n",
       " 'zlartg',\n",
       " 'zlaswp',\n",
       " 'zlauum',\n",
       " 'zpbsv',\n",
       " 'zpbtrf',\n",
       " 'zpbtrs',\n",
       " 'zpftrf',\n",
       " 'zpftri',\n",
       " 'zpftrs',\n",
       " 'zpocon',\n",
       " 'zposv',\n",
       " 'zposvx',\n",
       " 'zpotrf',\n",
       " 'zpotri',\n",
       " 'zpotrs',\n",
       " 'zptsv',\n",
       " 'zrot',\n",
       " 'zsycon',\n",
       " 'zsyconv',\n",
       " 'zsysv',\n",
       " 'zsysv_lwork',\n",
       " 'zsysvx',\n",
       " 'zsysvx_lwork',\n",
       " 'zsytf2',\n",
       " 'zsytrf',\n",
       " 'zsytrf_lwork',\n",
       " 'ztfsm',\n",
       " 'ztfttp',\n",
       " 'ztfttr',\n",
       " 'ztgsen',\n",
       " 'ztpttf',\n",
       " 'ztpttr',\n",
       " 'ztrsyl',\n",
       " 'ztrtri',\n",
       " 'ztrtrs',\n",
       " 'ztrttf',\n",
       " 'ztrttp',\n",
       " 'ztzrzf',\n",
       " 'ztzrzf_lwork',\n",
       " 'zunghr',\n",
       " 'zunghr_lwork',\n",
       " 'zungqr',\n",
       " 'zungrq',\n",
       " 'zunmqr',\n",
       " 'zunmrz',\n",
       " 'zunmrz_lwork']"
      ]
     },
     "execution_count": 49,
     "metadata": {},
     "output_type": "execute_result"
    }
   ],
   "source": [
    "import scipy.linalg.lapack as lapack\n",
    "\n",
    "dir(lapack)"
   ]
  },
  {
   "cell_type": "code",
   "execution_count": 50,
   "metadata": {},
   "outputs": [
    {
     "data": {
      "text/plain": [
       "array([[-1.31200307, -0.58052118, -1.47899636, -0.32919228],\n",
       "       [ 0.14180153, -0.18174389, -0.09884928,  0.29329664]])"
      ]
     },
     "execution_count": 50,
     "metadata": {},
     "output_type": "execute_result"
    }
   ],
   "source": [
    "x"
   ]
  },
  {
   "cell_type": "code",
   "execution_count": 51,
   "metadata": {},
   "outputs": [
    {
     "data": {
      "text/plain": [
       "array([[ 1.38031833,  0.9857807 ],\n",
       "       [-0.87860958, -0.35195912],\n",
       "       [ 0.96260017, -0.14659285],\n",
       "       [ 1.5166111 ,  0.06540195]])"
      ]
     },
     "execution_count": 51,
     "metadata": {},
     "output_type": "execute_result"
    }
   ],
   "source": [
    "y"
   ]
  },
  {
   "cell_type": "code",
   "execution_count": 52,
   "metadata": {},
   "outputs": [
    {
     "data": {
      "text/plain": [
       "1.056356241485227"
      ]
     },
     "execution_count": 52,
     "metadata": {},
     "output_type": "execute_result"
    }
   ],
   "source": [
    "np.matmul(a,b)"
   ]
  },
  {
   "cell_type": "code",
   "execution_count": 53,
   "metadata": {},
   "outputs": [
    {
     "data": {
      "text/plain": [
       "array([[-3.22386922, -0.89374712],\n",
       "       [ 0.70507779,  0.2374244 ]])"
      ]
     },
     "execution_count": 53,
     "metadata": {},
     "output_type": "execute_result"
    }
   ],
   "source": [
    "np.matmul(x,y)"
   ]
  },
  {
   "cell_type": "code",
   "execution_count": 54,
   "metadata": {},
   "outputs": [
    {
     "data": {
      "text/plain": [
       "1.056356241485227"
      ]
     },
     "execution_count": 54,
     "metadata": {},
     "output_type": "execute_result"
    }
   ],
   "source": [
    "np.dot(a,b)"
   ]
  },
  {
   "cell_type": "code",
   "execution_count": 55,
   "metadata": {},
   "outputs": [
    {
     "data": {
      "text/plain": [
       "1.056356241485227"
      ]
     },
     "execution_count": 55,
     "metadata": {},
     "output_type": "execute_result"
    }
   ],
   "source": [
    "blas.ddot(a,b)"
   ]
  },
  {
   "cell_type": "code",
   "execution_count": 56,
   "metadata": {},
   "outputs": [
    {
     "data": {
      "text/plain": [
       "1.056356241485227"
      ]
     },
     "execution_count": 56,
     "metadata": {},
     "output_type": "execute_result"
    }
   ],
   "source": [
    "a@b"
   ]
  },
  {
   "cell_type": "code",
   "execution_count": 57,
   "metadata": {},
   "outputs": [],
   "source": [
    "x=np.random.randn(2,2)\n",
    "y=np.random.randn(2,2)"
   ]
  },
  {
   "cell_type": "code",
   "execution_count": 58,
   "metadata": {},
   "outputs": [
    {
     "data": {
      "text/plain": [
       "array([[-0.41605585,  0.5867225 ],\n",
       "       [-1.84783061,  0.44043453]])"
      ]
     },
     "execution_count": 58,
     "metadata": {},
     "output_type": "execute_result"
    }
   ],
   "source": [
    "np.dot(x,y)"
   ]
  },
  {
   "cell_type": "code",
   "execution_count": 59,
   "metadata": {},
   "outputs": [
    {
     "ename": "TypeError",
     "evalue": "_flapack.dgelsy() missing required argument 'jptv' (pos 3)",
     "output_type": "error",
     "traceback": [
      "\u001b[1;31m---------------------------------------------------------------------------\u001b[0m",
      "\u001b[1;31mTypeError\u001b[0m                                 Traceback (most recent call last)",
      "\u001b[1;32m<ipython-input-59-d394af73c537>\u001b[0m in \u001b[0;36m<module>\u001b[1;34m\u001b[0m\n\u001b[1;32m----> 1\u001b[1;33m \u001b[0mlapack\u001b[0m\u001b[1;33m.\u001b[0m\u001b[0mdgelsy\u001b[0m\u001b[1;33m(\u001b[0m\u001b[0mx\u001b[0m\u001b[1;33m,\u001b[0m\u001b[0my\u001b[0m\u001b[1;33m)\u001b[0m\u001b[1;33m\u001b[0m\u001b[1;33m\u001b[0m\u001b[0m\n\u001b[0m",
      "\u001b[1;31mTypeError\u001b[0m: _flapack.dgelsy() missing required argument 'jptv' (pos 3)"
     ]
    }
   ],
   "source": [
    "lapack.dgelsy(x,y)"
   ]
  },
  {
   "cell_type": "code",
   "execution_count": 60,
   "metadata": {},
   "outputs": [
    {
     "data": {
      "text/plain": [
       "(array([[ 0.83969788, -0.2278463 ],\n",
       "        [ 0.46031878, -0.8060392 ]]),\n",
       " array([1, 1], dtype=int32),\n",
       " array([[ 0.06449004, -0.77420229],\n",
       "        [ 2.60373588, -0.76241944]]),\n",
       " 0)"
      ]
     },
     "execution_count": 60,
     "metadata": {},
     "output_type": "execute_result"
    }
   ],
   "source": [
    "lapack.dgesv(x,y)"
   ]
  },
  {
   "cell_type": "code",
   "execution_count": 61,
   "metadata": {},
   "outputs": [
    {
     "name": "stdout",
     "output_type": "stream",
     "text": [
      "[2 0 1 8]\n"
     ]
    }
   ],
   "source": [
    "x = np.array([2,0,1,8])\n",
    "\n",
    "print(x)"
   ]
  },
  {
   "cell_type": "code",
   "execution_count": 62,
   "metadata": {},
   "outputs": [
    {
     "data": {
      "text/plain": [
       "0"
      ]
     },
     "execution_count": 62,
     "metadata": {},
     "output_type": "execute_result"
    }
   ],
   "source": [
    "x[1]"
   ]
  },
  {
   "cell_type": "code",
   "execution_count": 63,
   "metadata": {},
   "outputs": [
    {
     "name": "stdout",
     "output_type": "stream",
     "text": [
      "2.08 ms ± 538 µs per loop (mean ± std. dev. of 7 runs, 100 loops each)\n"
     ]
    }
   ],
   "source": [
    "\n",
    "l = range(1234)\n",
    "%timeit [i ** 2 for i in l]"
   ]
  },
  {
   "cell_type": "code",
   "execution_count": 64,
   "metadata": {},
   "outputs": [
    {
     "data": {
      "text/plain": [
       "array([0.94629233, 0.49344491])"
      ]
     },
     "execution_count": 64,
     "metadata": {},
     "output_type": "execute_result"
    }
   ],
   "source": [
    "a"
   ]
  },
  {
   "cell_type": "code",
   "execution_count": 65,
   "metadata": {},
   "outputs": [
    {
     "name": "stdout",
     "output_type": "stream",
     "text": [
      "5.89 µs ± 1.68 µs per loop (mean ± std. dev. of 7 runs, 100000 loops each)\n"
     ]
    }
   ],
   "source": [
    "import numpy as np\n",
    "a = np.arange(1234)\n",
    "%timeit a ** 2"
   ]
  },
  {
   "cell_type": "code",
   "execution_count": 66,
   "metadata": {},
   "outputs": [
    {
     "name": "stdout",
     "output_type": "stream",
     "text": [
      "Help on built-in function array in module numpy:\n",
      "\n",
      "array(...)\n",
      "    array(object, dtype=None, copy=True, order='K', subok=False, ndmin=0)\n",
      "    \n",
      "    Create an array.\n",
      "    \n",
      "    Parameters\n",
      "    ----------\n",
      "    object : array_like\n",
      "        An array, any object exposing the array interface, an object whose\n",
      "        __array__ method returns an array, or any (nested) sequence.\n",
      "    dtype : data-type, optional\n",
      "        The desired data-type for the array.  If not given, then the type will\n",
      "        be determined as the minimum type required to hold the objects in the\n",
      "        sequence.  This argument can only be used to 'upcast' the array.  For\n",
      "        downcasting, use the .astype(t) method.\n",
      "    copy : bool, optional\n",
      "        If true (default), then the object is copied.  Otherwise, a copy will\n",
      "        only be made if __array__ returns a copy, if obj is a nested sequence,\n",
      "        or if a copy is needed to satisfy any of the other requirements\n",
      "        (`dtype`, `order`, etc.).\n",
      "    order : {'K', 'A', 'C', 'F'}, optional\n",
      "        Specify the memory layout of the array. If object is not an array, the\n",
      "        newly created array will be in C order (row major) unless 'F' is\n",
      "        specified, in which case it will be in Fortran order (column major).\n",
      "        If object is an array the following holds.\n",
      "    \n",
      "        ===== ========= ===================================================\n",
      "        order  no copy                     copy=True\n",
      "        ===== ========= ===================================================\n",
      "        'K'   unchanged F & C order preserved, otherwise most similar order\n",
      "        'A'   unchanged F order if input is F and not C, otherwise C order\n",
      "        'C'   C order   C order\n",
      "        'F'   F order   F order\n",
      "        ===== ========= ===================================================\n",
      "    \n",
      "        When ``copy=False`` and a copy is made for other reasons, the result is\n",
      "        the same as if ``copy=True``, with some exceptions for `A`, see the\n",
      "        Notes section. The default order is 'K'.\n",
      "    subok : bool, optional\n",
      "        If True, then sub-classes will be passed-through, otherwise\n",
      "        the returned array will be forced to be a base-class array (default).\n",
      "    ndmin : int, optional\n",
      "        Specifies the minimum number of dimensions that the resulting\n",
      "        array should have.  Ones will be pre-pended to the shape as\n",
      "        needed to meet this requirement.\n",
      "    \n",
      "    Returns\n",
      "    -------\n",
      "    out : ndarray\n",
      "        An array object satisfying the specified requirements.\n",
      "    \n",
      "    See Also\n",
      "    --------\n",
      "    empty_like : Return an empty array with shape and type of input.\n",
      "    ones_like : Return an array of ones with shape and type of input.\n",
      "    zeros_like : Return an array of zeros with shape and type of input.\n",
      "    full_like : Return a new array with shape of input filled with value.\n",
      "    empty : Return a new uninitialized array.\n",
      "    ones : Return a new array setting values to one.\n",
      "    zeros : Return a new array setting values to zero.\n",
      "    full : Return a new array of given shape filled with value.\n",
      "    \n",
      "    \n",
      "    Notes\n",
      "    -----\n",
      "    When order is 'A' and `object` is an array in neither 'C' nor 'F' order,\n",
      "    and a copy is forced by a change in dtype, then the order of the result is\n",
      "    not necessarily 'C' as expected. This is likely a bug.\n",
      "    \n",
      "    Examples\n",
      "    --------\n",
      "    >>> np.array([1, 2, 3])\n",
      "    array([1, 2, 3])\n",
      "    \n",
      "    Upcasting:\n",
      "    \n",
      "    >>> np.array([1, 2, 3.0])\n",
      "    array([ 1.,  2.,  3.])\n",
      "    \n",
      "    More than one dimension:\n",
      "    \n",
      "    >>> np.array([[1, 2], [3, 4]])\n",
      "    array([[1, 2],\n",
      "           [3, 4]])\n",
      "    \n",
      "    Minimum dimensions 2:\n",
      "    \n",
      "    >>> np.array([1, 2, 3], ndmin=2)\n",
      "    array([[1, 2, 3]])\n",
      "    \n",
      "    Type provided:\n",
      "    \n",
      "    >>> np.array([1, 2, 3], dtype=complex)\n",
      "    array([ 1.+0.j,  2.+0.j,  3.+0.j])\n",
      "    \n",
      "    Data-type consisting of more than one element:\n",
      "    \n",
      "    >>> x = np.array([(1,2),(3,4)],dtype=[('a','<i4'),('b','<i4')])\n",
      "    >>> x['a']\n",
      "    array([1, 3])\n",
      "    \n",
      "    Creating an array from sub-classes:\n",
      "    \n",
      "    >>> np.array(np.mat('1 2; 3 4'))\n",
      "    array([[1, 2],\n",
      "           [3, 4]])\n",
      "    \n",
      "    >>> np.array(np.mat('1 2; 3 4'), subok=True)\n",
      "    matrix([[1, 2],\n",
      "            [3, 4]])\n",
      "\n"
     ]
    }
   ],
   "source": [
    "help(np.array)"
   ]
  },
  {
   "cell_type": "code",
   "execution_count": 67,
   "metadata": {},
   "outputs": [
    {
     "data": {
      "image/png": "[encoded data removed]",
      "text/plain": [
       "<Figure size 432x288 with 1 Axes>"
      ]
     },
     "metadata": {
      "needs_background": "light"
     },
     "output_type": "display_data"
    }
   ],
   "source": [
    "%matplotlib inline\n",
    "\n",
    "import matplotlib.pyplot as plt\n",
    "\n",
    "# Plotting a line\n",
    "x = np.linspace(0, 10, 100)\n",
    "plt.plot(x, np.sin(x));"
   ]
  },
  {
   "cell_type": "code",
   "execution_count": 68,
   "metadata": {},
   "outputs": [
    {
     "data": {
      "image/png": "[encoded data removed]",
      "text/plain": [
       "<Figure size 432x288 with 1 Axes>"
      ]
     },
     "metadata": {
      "needs_background": "light"
     },
     "output_type": "display_data"
    }
   ],
   "source": [
    "# Scatter-plot points\n",
    "x = np.random.normal(size=500)\n",
    "y = np.random.normal(size=500)\n",
    "plt.scatter(x, y);"
   ]
  },
  {
   "cell_type": "code",
   "execution_count": 57,
   "metadata": {},
   "outputs": [
    {
     "name": "stdout",
     "output_type": "stream",
     "text": [
      "(100, 100)\n"
     ]
    },
    {
     "data": {
      "image/png": "[encoded data removed]",
      "text/plain": [
       "<Figure size 432x288 with 2 Axes>"
      ]
     },
     "metadata": {
      "needs_background": "light"
     },
     "output_type": "display_data"
    }
   ],
   "source": [
    "# Showing images using imshow\n",
    "# - note that origin is at the top-left by default!\n",
    "\n",
    "x = np.linspace(1, 12, 100)\n",
    "y = x[:, np.newaxis]\n",
    "im = y * np.sin(x) * np.cos(y)\n",
    "print(im.shape)\n",
    "\n",
    "import matplotlib.pyplot as plt\n",
    "\n",
    "plt.imshow(im);\n",
    "plt.colorbar();\n",
    "plt.xlabel('x')\n",
    "plt.ylabel('y')\n",
    "plt.show();"
   ]
  },
  {
   "cell_type": "code",
   "execution_count": 58,
   "metadata": {},
   "outputs": [
    {
     "data": {
      "image/png": "[encoded data removed]",
      "text/plain": [
       "<Figure size 432x288 with 1 Axes>"
      ]
     },
     "metadata": {
      "needs_background": "light"
     },
     "output_type": "display_data"
    }
   ],
   "source": [
    "# Contour plots \n",
    "# - note that origin here is at the bottom-left by default!\n",
    "plt.contour(im);"
   ]
  },
  {
   "cell_type": "code",
   "execution_count": 59,
   "metadata": {},
   "outputs": [
    {
     "data": {
      "image/png": "[encoded data removed]",
      "text/plain": [
       "<Figure size 432x288 with 1 Axes>"
      ]
     },
     "metadata": {
      "needs_background": "light"
     },
     "output_type": "display_data"
    }
   ],
   "source": [
    "# 3D plotting\n",
    "from mpl_toolkits.mplot3d import Axes3D\n",
    "ax = plt.axes(projection='3d')\n",
    "xgrid, ygrid = np.meshgrid(x, y.ravel())\n",
    "ax.plot_surface(xgrid, ygrid, im, cmap=plt.cm.viridis, cstride=2, rstride=2, linewidth=0);"
   ]
  },
  {
   "cell_type": "code",
   "execution_count": 60,
   "metadata": {},
   "outputs": [
    {
     "data": {
      "text/plain": [
       "['__SKLEARN_SETUP__',\n",
       " '__all__',\n",
       " '__builtins__',\n",
       " '__cached__',\n",
       " '__check_build',\n",
       " '__doc__',\n",
       " '__file__',\n",
       " '__loader__',\n",
       " '__name__',\n",
       " '__package__',\n",
       " '__path__',\n",
       " '__spec__',\n",
       " '__version__',\n",
       " '_config',\n",
       " 'base',\n",
       " 'clone',\n",
       " 'config_context',\n",
       " 'exceptions',\n",
       " 'externals',\n",
       " 'get_config',\n",
       " 'logger',\n",
       " 'logging',\n",
       " 'os',\n",
       " 're',\n",
       " 'set_config',\n",
       " 'setup_module',\n",
       " 'show_versions',\n",
       " 'sys',\n",
       " 'utils',\n",
       " 'warnings']"
      ]
     },
     "execution_count": 60,
     "metadata": {},
     "output_type": "execute_result"
    }
   ],
   "source": [
    "import sklearn as sk\n",
    "\n",
    "dir(sk)"
   ]
  },
  {
   "cell_type": "code",
   "execution_count": null,
   "metadata": {},
   "outputs": [],
   "source": []
  }
 ],
 "metadata": {
  "kernelspec": {
   "display_name": "Python 3",
   "language": "python",
   "name": "python3"
  },
  "language_info": {
   "codemirror_mode": {
    "name": "ipython",
    "version": 3
   },
   "file_extension": ".py",
   "mimetype": "text/x-python",
   "name": "python",
   "nbconvert_exporter": "python",
   "pygments_lexer": "ipython3",
   "version": "3.7.4"
  }
 },
 "nbformat": 4,
 "nbformat_minor": 2
}
